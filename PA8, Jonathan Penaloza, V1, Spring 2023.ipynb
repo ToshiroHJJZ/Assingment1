{
 "cells": [
  {
   "cell_type": "markdown",
   "id": "181e285f",
   "metadata": {},
   "source": [
    "# PA8, Jonathan Penaloza, V1, Spring 2023"
   ]
  },
  {
   "cell_type": "markdown",
   "id": "5d962edb",
   "metadata": {},
   "source": [
    "## A"
   ]
  },
  {
   "cell_type": "code",
   "execution_count": 1,
   "id": "a5d7abb0",
   "metadata": {},
   "outputs": [
    {
     "data": {
      "text/plain": [
       "array([[10, 20],\n",
       "       [30, 40]])"
      ]
     },
     "execution_count": 1,
     "metadata": {},
     "output_type": "execute_result"
    }
   ],
   "source": [
    "import numpy as np\n",
    "l1 = [10,20,30,40]\n",
    "x1 = np.array(l1)\n",
    "x1.resize(2,2)\n",
    "x1"
   ]
  },
  {
   "cell_type": "code",
   "execution_count": 4,
   "id": "61bfab3f",
   "metadata": {},
   "outputs": [
    {
     "data": {
      "text/plain": [
       "array([[ 100,  400],\n",
       "       [ 900, 1600]], dtype=int32)"
      ]
     },
     "execution_count": 4,
     "metadata": {},
     "output_type": "execute_result"
    }
   ],
   "source": [
    "x2 = np.square(x1)\n",
    "x2"
   ]
  },
  {
   "cell_type": "code",
   "execution_count": 6,
   "id": "c444a795",
   "metadata": {},
   "outputs": [
    {
     "data": {
      "text/plain": [
       "array([[ 200,  500],\n",
       "       [1000, 1700]], dtype=int32)"
      ]
     },
     "execution_count": 6,
     "metadata": {},
     "output_type": "execute_result"
    }
   ],
   "source": [
    "x3 = np.add(x2,100)\n",
    "x3"
   ]
  },
  {
   "cell_type": "code",
   "execution_count": 8,
   "id": "2076d761",
   "metadata": {},
   "outputs": [
    {
     "data": {
      "text/plain": [
       "array([[1000, 2500],\n",
       "       [5000, 8500]], dtype=int32)"
      ]
     },
     "execution_count": 8,
     "metadata": {},
     "output_type": "execute_result"
    }
   ],
   "source": [
    "x4 = np.multiply(x3,5)\n",
    "x4"
   ]
  },
  {
   "cell_type": "code",
   "execution_count": 9,
   "id": "5eb031be",
   "metadata": {},
   "outputs": [
    {
     "data": {
      "text/plain": [
       "array([[31.6227766 , 50.        ],\n",
       "       [70.71067812, 92.19544457]])"
      ]
     },
     "execution_count": 9,
     "metadata": {},
     "output_type": "execute_result"
    }
   ],
   "source": [
    "x5 = np.sqrt(x4)\n",
    "x5"
   ]
  },
  {
   "cell_type": "markdown",
   "id": "1d7ab0d4",
   "metadata": {},
   "source": [
    "## B"
   ]
  },
  {
   "cell_type": "code",
   "execution_count": 34,
   "id": "7a2cad6b",
   "metadata": {},
   "outputs": [
    {
     "name": "stdout",
     "output_type": "stream",
     "text": [
      "[[ 3  6  9]\n",
      " [12 15 18]\n",
      " [21 24 27]]\n",
      "\n",
      " [[10 11 12]\n",
      " [13 14 15]\n",
      " [16 17 18]]\n"
     ]
    }
   ],
   "source": [
    "x6= np.arange(3,28,3)\n",
    "x6.resize(3,3)\n",
    "print(x6)\n",
    "x7= np.arange(10,21,1)\n",
    "x7.resize(3,3)\n",
    "print(\"\\n\",x7)"
   ]
  },
  {
   "cell_type": "code",
   "execution_count": 35,
   "id": "68e0a12a",
   "metadata": {},
   "outputs": [
    {
     "name": "stdout",
     "output_type": "stream",
     "text": [
      "[[ 30  66 108]\n",
      " [156 210 270]\n",
      " [336 408 486]]\n"
     ]
    }
   ],
   "source": [
    "x8=np.multiply(x6,x7)\n",
    "print(x8)"
   ]
  },
  {
   "cell_type": "markdown",
   "id": "a9ab83c5",
   "metadata": {},
   "source": [
    "## C"
   ]
  },
  {
   "cell_type": "code",
   "execution_count": 43,
   "id": "8ecf7678",
   "metadata": {},
   "outputs": [],
   "source": [
    "x9=np.load('process1.npy')\n",
    "x10=np.load('process2.npy')\n",
    "x11=np.load('process3.npy')\n",
    "x12=np.load('process4.npy')\n",
    "x13=np.load('process5.npy')"
   ]
  },
  {
   "cell_type": "code",
   "execution_count": 44,
   "id": "b06fe4a7",
   "metadata": {},
   "outputs": [],
   "source": [
    "array1=np.vstack([x9,x10,x11,x12,x13])"
   ]
  },
  {
   "cell_type": "code",
   "execution_count": 45,
   "id": "5c878945",
   "metadata": {},
   "outputs": [
    {
     "name": "stdout",
     "output_type": "stream",
     "text": [
      "[[52 12 81  0 58]\n",
      " [96  4 61 16 43]\n",
      " [38 96 45 17 58]\n",
      " [97 21 22 25  6]\n",
      " [77  6 19  2 74]]\n",
      "72.0\n",
      "27.8\n",
      "45.6\n",
      "12.0\n",
      "47.8\n"
     ]
    }
   ],
   "source": [
    "print(array1)\n",
    "a,b,c,d,e=np.hsplit(array1,5)\n",
    "print(a.mean())\n",
    "print(b.mean())\n",
    "print(c.mean())\n",
    "print(d.mean())\n",
    "print(e.mean())"
   ]
  }
 ],
 "metadata": {
  "kernelspec": {
   "display_name": "Python 3 (ipykernel)",
   "language": "python",
   "name": "python3"
  },
  "language_info": {
   "codemirror_mode": {
    "name": "ipython",
    "version": 3
   },
   "file_extension": ".py",
   "mimetype": "text/x-python",
   "name": "python",
   "nbconvert_exporter": "python",
   "pygments_lexer": "ipython3",
   "version": "3.9.13"
  }
 },
 "nbformat": 4,
 "nbformat_minor": 5
}
