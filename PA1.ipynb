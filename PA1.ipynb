{
 "cells": [
  {
   "cell_type": "markdown",
   "id": "d51ab9a5",
   "metadata": {},
   "source": [
    "### Working on Markdown and submit using GitHub, Jonathan Penaloza, Version 1, Spring 2023"
   ]
  },
  {
   "cell_type": "markdown",
   "id": "81b71ce5",
   "metadata": {},
   "source": [
    "# 2023SP Computer Prog for Liberal Arts (CS-150-01)"
   ]
  },
  {
   "cell_type": "markdown",
   "id": "5876db17",
   "metadata": {},
   "source": [
    "## Getting started with markdown"
   ]
  },
  {
   "cell_type": "markdown",
   "id": "2d442c64",
   "metadata": {},
   "source": [
    "> Today is Monday"
   ]
  },
  {
   "cell_type": "markdown",
   "id": "08b918c9",
   "metadata": {},
   "source": [
    "* Variables and Simple Data Types\n",
    "* Introducing Lists, Tuples\n",
    "* Introducing Lists, Tuples cont.\n",
    "* if Statements\n",
    "* Dictionaries\n",
    "* Loops\n",
    "* Functions\n",
    "* Classes\n",
    "* Numpy"
   ]
  },
  {
   "cell_type": "markdown",
   "id": "64903859",
   "metadata": {},
   "source": [
    "1. Assingment 1\n",
    "2. Assingment 2\n",
    "3. Assingment 3\n",
    "4. Assingment 4\n",
    "5. Assingment 5\n",
    "6. Assingment 6\n",
    "7. Assingment 7"
   ]
  },
  {
   "cell_type": "markdown",
   "id": "dd41a5ed",
   "metadata": {},
   "source": [
    "**Sometimes Python can be confusing**"
   ]
  },
  {
   "cell_type": "markdown",
   "id": "a8cc0e52",
   "metadata": {},
   "source": [
    "*I am really hoping this semester is good*"
   ]
  },
  {
   "cell_type": "markdown",
   "id": "f69991f6",
   "metadata": {},
   "source": [
    "`JADF`"
   ]
  },
  {
   "cell_type": "markdown",
   "id": "fed7e312",
   "metadata": {},
   "source": [
    "<a href=\"https://github.com/ToshiroHJJZ?\">This link takes you to my GitHub</a>"
   ]
  },
  {
   "cell_type": "markdown",
   "id": "c9b1b743",
   "metadata": {},
   "source": [
    "![Python \n",
    "  Logo](https://pngimg.com/uploads/rubik_cube/rubik_cube_PNG22.png)"
   ]
  }
 ],
 "metadata": {
  "kernelspec": {
   "display_name": "Python 3 (ipykernel)",
   "language": "python",
   "name": "python3"
  },
  "language_info": {
   "codemirror_mode": {
    "name": "ipython",
    "version": 3
   },
   "file_extension": ".py",
   "mimetype": "text/x-python",
   "name": "python",
   "nbconvert_exporter": "python",
   "pygments_lexer": "ipython3",
   "version": "3.9.13"
  }
 },
 "nbformat": 4,
 "nbformat_minor": 5
}
