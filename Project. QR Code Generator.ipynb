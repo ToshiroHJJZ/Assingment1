{
 "cells": [
  {
   "cell_type": "code",
   "execution_count": 3,
   "id": "42490f25",
   "metadata": {},
   "outputs": [],
   "source": [
    "# Importing library\n",
    "import qrcode\n",
    " \n",
    "# Data to be encoded\n",
    "data = 'https://github.com/ToshiroHJJZ'\n",
    " \n",
    "# Encoding data using make() function\n",
    "img = qrcode.make(data)\n",
    " \n",
    "# Saving as an image file\n",
    "img.save('MyQRCode1.png')"
   ]
  },
  {
   "cell_type": "code",
   "execution_count": 8,
   "id": "29618dee",
   "metadata": {},
   "outputs": [
    {
     "name": "stdout",
     "output_type": "stream",
     "text": [
      "Image Saved\n"
     ]
    }
   ],
   "source": [
    "# Importing library\n",
    "import qrcode\n",
    "from PIL import Image\n",
    "import numpy as np\n",
    "\n",
    "# .open method used to open different extension image file\n",
    "img_bg = Image.open(r'C:\\Users\\jonat\\Desktop\\CS 150\\R.jpg')\n",
    "\n",
    "#creating instance of QR Code\n",
    "\n",
    "qr = qrcode.QRCode(version = 2,\n",
    "               box_size = 5,\n",
    "               border = 1)\n",
    "#qr.make(fit = True)\n",
    "#img = qr.make_image(fill_color = 'green',\n",
    "#                    back_color = 'white')\n",
    "\n",
    "\n",
    "# Data to encode\n",
    "qr.add_data('https://www.youtube.com/watch?v=o-YBDTqX_ZU&ab_channel=MusRest')\n",
    "def data():\n",
    "    return qr.make()\n",
    "\n",
    "\n",
    "# Encoding data using make() function\n",
    "img_qr = qr.make_image()\n",
    "\n",
    "\n",
    "# Here I am Positioning the QR Code within the image\n",
    "def position():\n",
    "    pos = ((img_bg.size[0] - img_qr.size[0])//10, (img_bg.size[1] - img_qr.size[1])//10)\n",
    "    img_bg.paste(img_qr, pos)\n",
    "\n",
    "\n",
    "\n",
    "\n",
    "position()\n",
    "\n",
    "# save the QR Code as a png file and let the user know when the qr code was generated succesfully\n",
    "img_bg.save('ComplexQRCode.png')\n",
    "print(\"Image Saved\")"
   ]
  },
  {
   "cell_type": "code",
   "execution_count": 5,
   "id": "4de1892b",
   "metadata": {},
   "outputs": [],
   "source": [
    "import qrcode\n",
    "from PIL import Image\n",
    "\n",
    "img_bg = Image.open(r'C:\\Users\\jonat\\Desktop\\CS 150\\R.jpg')\n",
    "\n",
    "qr = qrcode.QRCode(version = 1,\n",
    "               box_size = 10,\n",
    "               border = 1)\n",
    "qr.add_data('https://www.youtube.com/watch?v=o-YBDTqX_ZU&ab_channel=MusRest')\n",
    "qr.make()\n",
    "img_qr = qr.make_image()\n",
    "\n",
    "pos = (img_bg.size[0] - img_qr.size[0], img_bg.size[1] - img_qr.size[1])\n",
    "\n",
    "img_bg.paste(img_qr, pos)\n",
    "img_bg.save('Trying.png')"
   ]
  },
  {
   "cell_type": "code",
   "execution_count": 4,
   "id": "a55e2fa3",
   "metadata": {},
   "outputs": [],
   "source": [
    "import qrcode\n",
    "\n",
    "img = qrcode.make('https://th.bing.com/th/id/R.633ed93ed889356abfb5d7db6bb14b63?rik=XKAhkFlLxAAjOw&riu=http%3a%2f%2fgetwallpapers.com%2fwallpaper%2ffull%2f3%2f0%2fb%2f1113364-beautiful-cool-space-background-wallpapers-1920x1080-for-computer.jpg&ehk=UXaG0kmqMGv0ciHy5g6bl5zEquLwJt0KBar0t5yf0do%3d&risl=&pid=ImgRaw&r=0')\n",
    "type(img)  # qrcode.image.pil.PilImage\n",
    "img.save(\"image.png\")\n"
   ]
  }
 ],
 "metadata": {
  "kernelspec": {
   "display_name": "Python 3 (ipykernel)",
   "language": "python",
   "name": "python3"
  },
  "language_info": {
   "codemirror_mode": {
    "name": "ipython",
    "version": 3
   },
   "file_extension": ".py",
   "mimetype": "text/x-python",
   "name": "python",
   "nbconvert_exporter": "python",
   "pygments_lexer": "ipython3",
   "version": "3.9.13"
  }
 },
 "nbformat": 4,
 "nbformat_minor": 5
}
