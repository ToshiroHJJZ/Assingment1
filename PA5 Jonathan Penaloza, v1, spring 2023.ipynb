{
 "cells": [
  {
   "cell_type": "markdown",
   "id": "33a87db9",
   "metadata": {},
   "source": [
    "# PA5 Jonathan Penaloza, v1, spring 2023"
   ]
  },
  {
   "cell_type": "code",
   "execution_count": 6,
   "id": "2a1684c6",
   "metadata": {},
   "outputs": [
    {
     "name": "stdout",
     "output_type": "stream",
     "text": [
      "Enter a word to translate from English to Japanese (Enter 0 to stop): good morning\n",
      "The definition of the good morning is  おはよう\n",
      "Enter a word to translate from English to Japanese (Enter 0 to stop): drink\n",
      "The definition of the drink is  飲む\n",
      "Enter a word to translate from English to Japanese (Enter 0 to stop): come\n",
      "The definition of the come is  来て\n",
      "Enter a word to translate from English to Japanese (Enter 0 to stop): 0\n"
     ]
    }
   ],
   "source": [
    "d1={\"me\":\"わたし\",\n",
    "    \"you\":\"あなた\",\n",
    "   \"here\":\"ここ\",\n",
    "   \"there\":\"そこ\",\n",
    "   'over there':'あそこ',\n",
    "   'come':'来て',\n",
    "   'eat':'食べる',\n",
    "   'drink':'飲む',\n",
    "   'die':'死ぬ',\n",
    "    'world':'せかい',\n",
    "   'good morning':'おはよう'}\n",
    "word=\" \"\n",
    "while word!='0':\n",
    "    word=input(\"Enter a word to translate from English to Japanese (Enter 0 to stop): \")\n",
    "    if word in d1:\n",
    "        print(f\"The definition of the {word} is\", d1[word])\n",
    "    elif word=='0':\n",
    "        break\n",
    "    else:\n",
    "        print(\"The Japanese word for\", word, \"is not in this dictionary\")"
   ]
  },
  {
   "cell_type": "code",
   "execution_count": 7,
   "id": "37120e8d",
   "metadata": {},
   "outputs": [
    {
     "name": "stdout",
     "output_type": "stream",
     "text": [
      "{1: 1, 2: 3, 3: 0, 4: 10, 5: 13, 6: 14, 7: 18, 8: 13, 9: 18, 10: 8, 11: 11, 12: 15, 13: 18, 14: 17, 15: 24, 16: 16, 17: 2, 18: 10, 19: 17, 20: 18, 21: 16, 22: 25, 23: 23, 24: 10, 25: 13, 26: 16, 27: 21, 28: 16}\n"
     ]
    }
   ],
   "source": [
    "dweather= {1:34,\n",
    "           2:38,\n",
    "           3:32,\n",
    "           4:50,\n",
    "           5:55,\n",
    "           6:57,\n",
    "           7:64,\n",
    "           8:56,\n",
    "           9:64,\n",
    "           10:46,\n",
    "           11:51,\n",
    "           12:59,\n",
    "           13:64,\n",
    "           14:63,\n",
    "           15:75,\n",
    "           16:61,\n",
    "           17:35,\n",
    "           18:50,\n",
    "           19:62,\n",
    "           20:64,\n",
    "           21:61,\n",
    "           22:77,\n",
    "           23:74,\n",
    "           24:50,\n",
    "           25:56,\n",
    "           26:60,\n",
    "           27:70,\n",
    "           28:61\n",
    "          }\n",
    "i=1\n",
    "while dweather:\n",
    "    if i==29:\n",
    "        break\n",
    "    else:\n",
    "        dweather[i]=round((dweather[i]-32)*5/9)\n",
    "        i+=1\n",
    "print(dweather)"
   ]
  },
  {
   "cell_type": "code",
   "execution_count": 8,
   "id": "9867b5b6",
   "metadata": {},
   "outputs": [
    {
     "name": "stdout",
     "output_type": "stream",
     "text": [
      "{1: 1, 2: 4, 3: 9, 4: 16, 5: 25, 6: 36, 7: 49, 8: 64, 9: 81, 10: 100, 11: 121, 12: 144, 13: 169, 14: 196, 15: 225}\n"
     ]
    }
   ],
   "source": [
    "d3={}\n",
    "i=1\n",
    "while i<=15:\n",
    "    d3.update({i:i**2})\n",
    "    i+=1\n",
    "print(d3)"
   ]
  },
  {
   "cell_type": "code",
   "execution_count": null,
   "id": "256d4426",
   "metadata": {},
   "outputs": [],
   "source": []
  },
  {
   "cell_type": "code",
   "execution_count": null,
   "id": "3b195996",
   "metadata": {},
   "outputs": [],
   "source": []
  },
  {
   "cell_type": "code",
   "execution_count": null,
   "id": "84c6829d",
   "metadata": {},
   "outputs": [],
   "source": []
  },
  {
   "cell_type": "code",
   "execution_count": null,
   "id": "a0f39376",
   "metadata": {},
   "outputs": [],
   "source": []
  }
 ],
 "metadata": {
  "kernelspec": {
   "display_name": "Python 3 (ipykernel)",
   "language": "python",
   "name": "python3"
  },
  "language_info": {
   "codemirror_mode": {
    "name": "ipython",
    "version": 3
   },
   "file_extension": ".py",
   "mimetype": "text/x-python",
   "name": "python",
   "nbconvert_exporter": "python",
   "pygments_lexer": "ipython3",
   "version": "3.9.13"
  }
 },
 "nbformat": 4,
 "nbformat_minor": 5
}
