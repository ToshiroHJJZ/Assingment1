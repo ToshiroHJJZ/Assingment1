{
 "cells": [
  {
   "cell_type": "markdown",
   "id": "c32ffcff",
   "metadata": {},
   "source": [
    "### Programming Assignment 4 on Chapter 5, Jonathan Penaloza, Version 1, Spring 2023"
   ]
  },
  {
   "cell_type": "code",
   "execution_count": 52,
   "id": "239cb838",
   "metadata": {},
   "outputs": [
    {
     "name": "stdout",
     "output_type": "stream",
     "text": [
      "0\n",
      "1\n",
      "2\n",
      "3\n",
      "4\n",
      "5\n",
      "6 *\n",
      "7\n",
      "8\n",
      "9 *\n",
      "10\n",
      "11\n",
      "12 *\n",
      "13\n",
      "14\n",
      "15 *\n",
      "16\n",
      "17\n",
      "18 *\n",
      "19\n",
      "20\n",
      "21 *\n",
      "22\n",
      "23\n",
      "24 *\n",
      "25\n",
      "26\n",
      "27 *\n",
      "28\n",
      "29\n",
      "30 *\n",
      "31\n",
      "32\n",
      "33 *\n",
      "34\n",
      "35\n",
      "36 *\n",
      "37\n",
      "38\n",
      "39 *\n",
      "40\n",
      "41\n",
      "42 *\n",
      "43\n",
      "44\n",
      "45 *\n",
      "46\n",
      "47\n",
      "48 *\n",
      "49\n",
      "50\n",
      "51 *\n",
      "52\n",
      "53\n",
      "54 *\n",
      "55\n",
      "56\n",
      "57 *\n",
      "58\n",
      "59\n",
      "60 *\n",
      "61\n",
      "62\n",
      "63 *\n",
      "64\n",
      "65\n",
      "66 *\n",
      "67\n",
      "68\n",
      "69 *\n",
      "70\n",
      "71\n",
      "72 *\n",
      "73\n",
      "74\n",
      "75 *\n",
      "76\n",
      "77\n",
      "78 *\n",
      "79\n",
      "80\n",
      "81 *\n",
      "82\n",
      "83\n",
      "84 *\n",
      "85\n",
      "86\n",
      "87 *\n",
      "88\n",
      "89\n",
      "90 *\n",
      "91\n",
      "92\n",
      "93 *\n",
      "94\n",
      "95\n",
      "96 *\n",
      "97\n",
      "98\n",
      "99 *\n"
     ]
    }
   ],
   "source": [
    "for i in range(0,100):\n",
    "    if i%3 == 0 and i!=0 and i!=3:\n",
    "        print(i, \"*\")\n",
    "    else:\n",
    "        print(i)"
   ]
  },
  {
   "cell_type": "code",
   "execution_count": 11,
   "id": "9315f66d",
   "metadata": {},
   "outputs": [
    {
     "name": "stdout",
     "output_type": "stream",
     "text": [
      "Type a number to see the month of the year: 5\n",
      "May has 31\n"
     ]
    }
   ],
   "source": [
    "month = int(input(\"Type a number to see the month of the year: \"))\n",
    "if month == 1:\n",
    "    print(\"January has 31\")\n",
    "elif month == 2:\n",
    "    print(\"February has 28 days\")\n",
    "elif month == 3:\n",
    "    print(\"March has 31 days\")\n",
    "elif month == 4:\n",
    "    print(\"April has 30\")\n",
    "elif month == 5:\n",
    "    print(\"May has 31\")\n",
    "elif month == 6:\n",
    "    print(\"June has 31\")\n",
    "elif month == 7:\n",
    "    print(\"July has 31\")\n",
    "elif month == 8:\n",
    "    print(\"August has 30 days\")\n",
    "elif month == 9:\n",
    "    print(\"September has 31 days\")\n",
    "elif month == 10:\n",
    "    print(\"October has 30 days\")\n",
    "elif month == 11:\n",
    "    print(\"November has 30 days\")\n",
    "elif month == 12:\n",
    "    print(\"December has 31 days\")"
   ]
  },
  {
   "cell_type": "code",
   "execution_count": 22,
   "id": "35af81c3",
   "metadata": {},
   "outputs": [
    {
     "name": "stdout",
     "output_type": "stream",
     "text": [
      "Give me a number: 9\n",
      "The number is not a prime!\n"
     ]
    }
   ],
   "source": [
    "prime = int(input(\"Give me a number: \"))\n",
    "if prime == 1:\n",
    "    print(\"The number is not prime\")\n",
    "elif prime > 1:\n",
    "    if (prime%2 ==0 or prime%3 == 0):\n",
    "        print(\"The number is not a prime!\")\n",
    "    else:\n",
    "        print(\"The number is a prime number\")"
   ]
  },
  {
   "cell_type": "code",
   "execution_count": 17,
   "id": "9e0cc38c",
   "metadata": {},
   "outputs": [
    {
     "name": "stdout",
     "output_type": "stream",
     "text": [
      "Give me the base side of the triangle: 1\n",
      "Give me the height side of the triangle: 1\n",
      "Give me the hypotenuse side of the triangle: 1\n",
      "The triangle is equilateral\n"
     ]
    }
   ],
   "source": [
    "a = int(input(\"Give me the base side of the triangle: \"))\n",
    "b = int(input(\"Give me the height side of the triangle: \"))\n",
    "c = int(input(\"Give me the hypotenuse side of the triangle: \"))\n",
    "if (a==b==c):\n",
    "    print(\"The triangle is equilateral\")\n",
    "elif (a==b or a==c or b==c):\n",
    "    print(\"The triangle is isosceles\")\n",
    "elif (a != b and b!= c and a != c):\n",
    "    print(\"The triangle is scalene\")"
   ]
  },
  {
   "cell_type": "code",
   "execution_count": 51,
   "id": "35100c40",
   "metadata": {},
   "outputs": [
    {
     "name": "stdout",
     "output_type": "stream",
     "text": [
      "Give me your age: 65\n",
      "65\n",
      "Senior Citizen\n"
     ]
    }
   ],
   "source": [
    "age = int(input(\"Give me your age: \"))\n",
    "print(age)\n",
    "if (int(age) < 18):\n",
    "    print(\"Minor\")\n",
    "elif (int(age)> 18 and int(age) < 64):\n",
    "    print(\"Adult\")\n",
    "elif (int(age) >= 65):\n",
    "    print(\"Senior Citizen\")\n",
    "else:\n",
    "    print(\"That is not a right possible age :V\")\n",
    "        \n"
   ]
  },
  {
   "cell_type": "code",
   "execution_count": null,
   "id": "c2b394e3",
   "metadata": {},
   "outputs": [],
   "source": []
  }
 ],
 "metadata": {
  "kernelspec": {
   "display_name": "Python 3 (ipykernel)",
   "language": "python",
   "name": "python3"
  },
  "language_info": {
   "codemirror_mode": {
    "name": "ipython",
    "version": 3
   },
   "file_extension": ".py",
   "mimetype": "text/x-python",
   "name": "python",
   "nbconvert_exporter": "python",
   "pygments_lexer": "ipython3",
   "version": "3.9.13"
  }
 },
 "nbformat": 4,
 "nbformat_minor": 5
}
