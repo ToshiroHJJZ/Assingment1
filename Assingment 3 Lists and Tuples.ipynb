{
 "cells": [
  {
   "cell_type": "markdown",
   "id": "7965e700",
   "metadata": {},
   "source": [
    "# Programming Assignment 3 on List and Tuples, Jonathan Penaloza, Version 1, Spring 2023"
   ]
  },
  {
   "cell_type": "markdown",
   "id": "5e71f88d",
   "metadata": {},
   "source": [
    "###### Part A"
   ]
  },
  {
   "cell_type": "code",
   "execution_count": 1,
   "id": "f481862c",
   "metadata": {},
   "outputs": [],
   "source": [
    "list1 = []"
   ]
  },
  {
   "cell_type": "code",
   "execution_count": 2,
   "id": "7458a223",
   "metadata": {},
   "outputs": [
    {
     "name": "stdout",
     "output_type": "stream",
     "text": [
      "['Razor']\n"
     ]
    }
   ],
   "source": [
    "#adds a value at the end of the list\n",
    "list1.append(\"Razor\")\n",
    "print(list1)"
   ]
  },
  {
   "cell_type": "code",
   "execution_count": 3,
   "id": "ca81f72b",
   "metadata": {},
   "outputs": [
    {
     "name": "stdout",
     "output_type": "stream",
     "text": [
      "['Razor', 'Bag']\n"
     ]
    }
   ],
   "source": [
    "#conccatinates two lists.\n",
    "list2 = [\"Bag\"]\n",
    "list1.extend(list2)\n",
    "print(list1)"
   ]
  },
  {
   "cell_type": "code",
   "execution_count": 4,
   "id": "95ee1c02",
   "metadata": {},
   "outputs": [
    {
     "name": "stdout",
     "output_type": "stream",
     "text": [
      "['Razor', 'Nail Clipper', 'Bag']\n"
     ]
    }
   ],
   "source": [
    "# insert() concattinates an especific value and its placement can be especified with the index.\n",
    "list1.insert(1,\"Nail Clipper\")\n",
    "print(list1)"
   ]
  },
  {
   "cell_type": "code",
   "execution_count": 5,
   "id": "9929a603",
   "metadata": {},
   "outputs": [
    {
     "name": "stdout",
     "output_type": "stream",
     "text": [
      "['Razor', 'Nail Clipper']\n"
     ]
    }
   ],
   "source": [
    "# remove() removes the especified value within a list.\n",
    "list1.remove(\"Bag\")\n",
    "print(list1)"
   ]
  },
  {
   "cell_type": "code",
   "execution_count": 6,
   "id": "6d6860b0",
   "metadata": {},
   "outputs": [
    {
     "data": {
      "text/plain": [
       "3"
      ]
     },
     "execution_count": 6,
     "metadata": {},
     "output_type": "execute_result"
    }
   ],
   "source": [
    "#count is a recursive function that allows the user to find an epecific value within a list. \n",
    "#Both the vriable that represents somethinghave to be given and the value that is looked for.\n",
    "\n",
    "numbers = [22,345,56,22,69,6657,3949,3021,39,22,574]\n",
    "numbers.count(22)"
   ]
  },
  {
   "cell_type": "code",
   "execution_count": 7,
   "id": "81342a05",
   "metadata": {},
   "outputs": [
    {
     "data": {
      "text/plain": [
       "7"
      ]
     },
     "execution_count": 7,
     "metadata": {},
     "output_type": "execute_result"
    }
   ],
   "source": [
    "# index() returns the index value of an especified value within a list\n",
    "list3 = [34,245,2434,456,5,89,45,15,54,97,60,35,264,695]\n",
    "list3.index(15)"
   ]
  },
  {
   "cell_type": "code",
   "execution_count": 8,
   "id": "00cd2fde",
   "metadata": {},
   "outputs": [
    {
     "name": "stdout",
     "output_type": "stream",
     "text": [
      "['Nail Clipper']\n"
     ]
    }
   ],
   "source": [
    "#using the index allows the user to remove a value from a list\n",
    "list1.pop(0)\n",
    "print(list1)"
   ]
  },
  {
   "cell_type": "code",
   "execution_count": 9,
   "id": "2c2e72c3",
   "metadata": {},
   "outputs": [
    {
     "name": "stdout",
     "output_type": "stream",
     "text": [
      "[5, 15, 34, 35, 45, 54, 60, 89, 97, 245, 264, 456, 695, 2434]\n"
     ]
    }
   ],
   "source": [
    "# sorted() sorts a list from ascending order temporarily, so it can be saved ina variable\n",
    "list4 = sorted(list3)\n",
    "print(list4)"
   ]
  },
  {
   "cell_type": "code",
   "execution_count": 10,
   "id": "69a81a5f",
   "metadata": {},
   "outputs": [
    {
     "name": "stdout",
     "output_type": "stream",
     "text": [
      "['toddler', 'Kid', 'Adult', 'Elder']\n"
     ]
    }
   ],
   "source": [
    "# is a method that allows the user to copy a list entirely into another variable\n",
    "list5 = [\"toddler\", \"Kid\", \"Adult\", \"Elder\"]\n",
    "list6 = list5.copy()\n",
    "print(list6)"
   ]
  },
  {
   "cell_type": "code",
   "execution_count": 11,
   "id": "5f9a9b9c",
   "metadata": {},
   "outputs": [
    {
     "name": "stdout",
     "output_type": "stream",
     "text": [
      "[]\n"
     ]
    }
   ],
   "source": [
    "#this method clears out whatever is in a variable\n",
    "list6.clear()\n",
    "print(list6)"
   ]
  },
  {
   "cell_type": "code",
   "execution_count": 12,
   "id": "8e66dc89",
   "metadata": {},
   "outputs": [
    {
     "name": "stdout",
     "output_type": "stream",
     "text": [
      "['apple', 'banana', 'cherry']\n"
     ]
    }
   ],
   "source": [
    "# mutates the nature of a tuple making it a list, this way a tuple can be mutable\n",
    "x = (\"apple\", \"banana\", \"cherry\")\n",
    "y = list(x)\n",
    "print(y)"
   ]
  },
  {
   "cell_type": "markdown",
   "id": "73d08905",
   "metadata": {},
   "source": [
    "###### Part B"
   ]
  },
  {
   "cell_type": "code",
   "execution_count": 13,
   "id": "40735ab1",
   "metadata": {},
   "outputs": [
    {
     "data": {
      "text/plain": [
       "17"
      ]
     },
     "execution_count": 13,
     "metadata": {},
     "output_type": "execute_result"
    }
   ],
   "source": [
    "# The use of the method  len() is to find the length of a string\n",
    "name = \"Jonathan Penaloza\"\n",
    "len(name)"
   ]
  },
  {
   "cell_type": "code",
   "execution_count": 16,
   "id": "2d977591",
   "metadata": {},
   "outputs": [
    {
     "name": "stdout",
     "output_type": "stream",
     "text": [
      "5239482\n"
     ]
    }
   ],
   "source": [
    "# the method max() provides the user with the largest value within a tuple\n",
    "a = (13492, 5239482, 32384, 910239)\n",
    "x = max(a)\n",
    "\n",
    "print(x)"
   ]
  },
  {
   "cell_type": "code",
   "execution_count": 15,
   "id": "f162672d",
   "metadata": {},
   "outputs": [
    {
     "name": "stdout",
     "output_type": "stream",
     "text": [
      "219382\n"
     ]
    }
   ],
   "source": [
    "# the method min() provides the user with the lowest value within a tuple.\n",
    "b = (344, 54343, 219382, 1489)\n",
    "y = max(b)\n",
    "\n",
    "print(y)"
   ]
  }
 ],
 "metadata": {
  "kernelspec": {
   "display_name": "Python 3 (ipykernel)",
   "language": "python",
   "name": "python3"
  },
  "language_info": {
   "codemirror_mode": {
    "name": "ipython",
    "version": 3
   },
   "file_extension": ".py",
   "mimetype": "text/x-python",
   "name": "python",
   "nbconvert_exporter": "python",
   "pygments_lexer": "ipython3",
   "version": "3.9.13"
  }
 },
 "nbformat": 4,
 "nbformat_minor": 5
}
