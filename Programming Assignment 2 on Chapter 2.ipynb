{
 "cells": [
  {
   "cell_type": "markdown",
   "id": "ee6a4807",
   "metadata": {},
   "source": [
    "### Programming Assignment 2 on Chapter 2, Jonathan Penaloza, Version 1, Spring 2023"
   ]
  },
  {
   "cell_type": "code",
   "execution_count": 9,
   "id": "0b87ee9d",
   "metadata": {},
   "outputs": [
    {
     "name": "stdout",
     "output_type": "stream",
     "text": [
      "Give me a float number: 44.3\n"
     ]
    }
   ],
   "source": [
    "floating_number = float(input(\"Give me a float number: \"))"
   ]
  },
  {
   "cell_type": "code",
   "execution_count": 10,
   "id": "36f01cdc",
   "metadata": {},
   "outputs": [
    {
     "name": "stdout",
     "output_type": "stream",
     "text": [
      "Give me a float number: 16\n"
     ]
    }
   ],
   "source": [
    "int_numb = int(input(\"Give me a float number: \"))"
   ]
  },
  {
   "cell_type": "code",
   "execution_count": 11,
   "id": "b1c19cf2",
   "metadata": {},
   "outputs": [],
   "source": [
    "sum = floating_number + int_numb"
   ]
  },
  {
   "cell_type": "code",
   "execution_count": 12,
   "id": "cb0d4ebd",
   "metadata": {},
   "outputs": [
    {
     "name": "stdout",
     "output_type": "stream",
     "text": [
      "60.3\n"
     ]
    }
   ],
   "source": [
    "print(sum)"
   ]
  },
  {
   "cell_type": "code",
   "execution_count": 20,
   "id": "6a9b4079",
   "metadata": {},
   "outputs": [
    {
     "name": "stdout",
     "output_type": "stream",
     "text": [
      "The difference is:  28.299999999999997\n"
     ]
    }
   ],
   "source": [
    "sub = floating_number - int_numb\n",
    "print(\"The difference is: \", sub)"
   ]
  },
  {
   "cell_type": "code",
   "execution_count": 21,
   "id": "135c07aa",
   "metadata": {},
   "outputs": [
    {
     "name": "stdout",
     "output_type": "stream",
     "text": [
      "The product is 708.8\n"
     ]
    }
   ],
   "source": [
    "product = int_numb*floating_number\n",
    "print(\"The product is\", product)"
   ]
  },
  {
   "cell_type": "code",
   "execution_count": 24,
   "id": "cc67b744",
   "metadata": {},
   "outputs": [
    {
     "name": "stdout",
     "output_type": "stream",
     "text": [
      "The quotient 2.76875\n"
     ]
    }
   ],
   "source": [
    "quotient = floating_number/int_numb\n",
    "print(\"The quotient\", quotient)"
   ]
  },
  {
   "cell_type": "code",
   "execution_count": 27,
   "id": "63c9e3f1",
   "metadata": {},
   "outputs": [
    {
     "name": "stdout",
     "output_type": "stream",
     "text": [
      "The type for the result is <class 'float'>\n"
     ]
    }
   ],
   "source": [
    "print(\"The type for the result is\", type(quotient))"
   ]
  }
 ],
 "metadata": {
  "kernelspec": {
   "display_name": "Python 3 (ipykernel)",
   "language": "python",
   "name": "python3"
  },
  "language_info": {
   "codemirror_mode": {
    "name": "ipython",
    "version": 3
   },
   "file_extension": ".py",
   "mimetype": "text/x-python",
   "name": "python",
   "nbconvert_exporter": "python",
   "pygments_lexer": "ipython3",
   "version": "3.9.13"
  }
 },
 "nbformat": 4,
 "nbformat_minor": 5
}
